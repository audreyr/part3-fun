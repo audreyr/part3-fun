{
 "metadata": {
  "name": "",
  "signature": "sha256:728b28e14a042563109ec2f8084c7229cfbff53b495b9c6b7c6c7dd8de188911"
 },
 "nbformat": 3,
 "nbformat_minor": 0,
 "worksheets": [
  {
   "cells": [
    {
     "cell_type": "heading",
     "level": 1,
     "metadata": {},
     "source": [
      "Functions"
     ]
    },
    {
     "cell_type": "heading",
     "level": 3,
     "metadata": {},
     "source": [
      "Example: Greeting Script"
     ]
    },
    {
     "cell_type": "code",
     "collapsed": false,
     "input": [
      "%cat greeting-0-print.py"
     ],
     "language": "python",
     "metadata": {},
     "outputs": [
      {
       "output_type": "stream",
       "stream": "stdout",
       "text": [
        "print(\"Happy Birthday, dear Carol!\")\r\n"
       ]
      }
     ],
     "prompt_number": 21
    },
    {
     "cell_type": "code",
     "collapsed": false,
     "input": [
      "%%bash\n",
      "python3 greeting-0-print.py"
     ],
     "language": "python",
     "metadata": {},
     "outputs": [
      {
       "output_type": "stream",
       "stream": "stdout",
       "text": [
        "Happy Birthday, dear Carol!\n"
       ]
      }
     ],
     "prompt_number": 22
    },
    {
     "cell_type": "heading",
     "level": 3,
     "metadata": {},
     "source": [
      "Calling a function (in IPython Notebook)"
     ]
    },
    {
     "cell_type": "code",
     "collapsed": false,
     "input": [
      "def happy_birthday_carol():\n",
      "    print(\"Happy Birthday, dear Carol!\")"
     ],
     "language": "python",
     "metadata": {},
     "outputs": [],
     "prompt_number": 8
    },
    {
     "cell_type": "code",
     "collapsed": false,
     "input": [
      "happy_birthday_carol()"
     ],
     "language": "python",
     "metadata": {},
     "outputs": [
      {
       "output_type": "stream",
       "stream": "stdout",
       "text": [
        "Happy Birthday, dear Carol!\n"
       ]
      }
     ],
     "prompt_number": 9
    },
    {
     "cell_type": "heading",
     "level": 3,
     "metadata": {},
     "source": [
      "Calling a function"
     ]
    },
    {
     "cell_type": "markdown",
     "metadata": {},
     "source": [
      "**Source code**  \n",
      "File: greeting-1-function.py"
     ]
    },
    {
     "cell_type": "code",
     "collapsed": false,
     "input": [
      "%cat greeting-1-function.py"
     ],
     "language": "python",
     "metadata": {},
     "outputs": [
      {
       "output_type": "stream",
       "stream": "stdout",
       "text": [
        "def happy_birthday_carol():\r\n",
        "    print(\"Happy Birthday, dear Carol!\")\r\n",
        "\r\n",
        "happy_birthday_carol()\r\n",
        "\r\n"
       ]
      }
     ],
     "prompt_number": 16
    },
    {
     "cell_type": "markdown",
     "metadata": {},
     "source": [
      "**Run**  \n",
      "This runs the file greeting-1-function.py"
     ]
    },
    {
     "cell_type": "code",
     "collapsed": false,
     "input": [
      "%%bash\n",
      "python3 greeting-1-function.py"
     ],
     "language": "python",
     "metadata": {},
     "outputs": [
      {
       "output_type": "stream",
       "stream": "stdout",
       "text": [
        "Happy Birthday, dear Carol!\n"
       ]
      }
     ],
     "prompt_number": 17
    },
    {
     "cell_type": "markdown",
     "metadata": {},
     "source": [
      "####Parentheses make a difference  \n",
      "- Without parens, the Python interpreter is saying \"the value of happy_birthday_carol is a function.\"\n",
      "- With parens, happy_birthday_carol() outputs a greeting to the screen or console."
     ]
    },
    {
     "cell_type": "code",
     "collapsed": false,
     "input": [
      "happy_birthday_carol"
     ],
     "language": "python",
     "metadata": {},
     "outputs": [
      {
       "metadata": {},
       "output_type": "pyout",
       "prompt_number": 19,
       "text": [
        "<function __main__.happy_birthday_carol>"
       ]
      }
     ],
     "prompt_number": 19
    },
    {
     "cell_type": "code",
     "collapsed": false,
     "input": [
      "happy_birthday_carol()"
     ],
     "language": "python",
     "metadata": {},
     "outputs": [
      {
       "output_type": "stream",
       "stream": "stdout",
       "text": [
        "Happy Birthday, dear Carol!\n"
       ]
      }
     ],
     "prompt_number": 20
    },
    {
     "cell_type": "heading",
     "level": 3,
     "metadata": {},
     "source": [
      "Refactor Time!"
     ]
    },
    {
     "cell_type": "markdown",
     "metadata": {},
     "source": [
      "**Source code**  \n",
      "File: greeting-2-refactor.py"
     ]
    },
    {
     "cell_type": "code",
     "collapsed": false,
     "input": [
      "%cat greeting-2-refactor.py"
     ],
     "language": "python",
     "metadata": {},
     "outputs": [
      {
       "output_type": "stream",
       "stream": "stdout",
       "text": [
        "# Function\r\n",
        "def happy_birthday(name):\r\n",
        "    print(\"Happy Birthday, dear \" + name + \"!\")\r\n",
        "\r\n",
        "\r\n",
        "# Calling\r\n",
        "happy_birthday(\"Trey\")\r\n"
       ]
      }
     ],
     "prompt_number": 23
    },
    {
     "cell_type": "markdown",
     "metadata": {},
     "source": [
      "**Run**  \n",
      "This runs the file greeting-2-refactor.py"
     ]
    },
    {
     "cell_type": "code",
     "collapsed": false,
     "input": [
      "%%bash\n",
      "python3 greeting-2-refactor.py"
     ],
     "language": "python",
     "metadata": {},
     "outputs": [
      {
       "output_type": "stream",
       "stream": "stdout",
       "text": [
        "Happy Birthday, dear Trey!\n"
       ]
      }
     ],
     "prompt_number": 25
    },
    {
     "cell_type": "markdown",
     "metadata": {},
     "source": [
      "**Calling it over and over in a loop**"
     ]
    },
    {
     "cell_type": "markdown",
     "metadata": {},
     "source": [
      "**Source code**  \n",
      "File: greeting-3-refactor-loop.py"
     ]
    },
    {
     "cell_type": "code",
     "collapsed": false,
     "input": [
      "%cat greeting-3-refactor-loop.py"
     ],
     "language": "python",
     "metadata": {},
     "outputs": [
      {
       "output_type": "stream",
       "stream": "stdout",
       "text": [
        "# Function\r\n",
        "def happy_birthday(name):\r\n",
        "    print(\"Happy Birthday, dear \" + name + \"!\")\r\n",
        "\r\n",
        "# A list of names\r\n",
        "names = [\"Carol\", \"Rise\", \"Trey\", \"Alain\"]\r\n",
        "\r\n",
        "# Calling\r\n",
        "for name in names:\r\n",
        "    happy_birthday(name)\r\n"
       ]
      }
     ],
     "prompt_number": 36
    },
    {
     "cell_type": "markdown",
     "metadata": {},
     "source": [
      "**Run**  \n",
      "This runs the file greeting-3-refactor-loop.py"
     ]
    },
    {
     "cell_type": "code",
     "collapsed": false,
     "input": [
      "%%bash\n",
      "python3 greeting-3-refactor-loop.py"
     ],
     "language": "python",
     "metadata": {},
     "outputs": [
      {
       "output_type": "stream",
       "stream": "stdout",
       "text": [
        "Happy Birthday, dear Carol!\n",
        "Happy Birthday, dear Rise!\n",
        "Happy Birthday, dear Trey!\n",
        "Happy Birthday, dear Alain!\n"
       ]
      }
     ],
     "prompt_number": 37
    },
    {
     "cell_type": "heading",
     "level": 3,
     "metadata": {},
     "source": [
      "Exercise: Try to break happy_birthday()"
     ]
    },
    {
     "cell_type": "markdown",
     "metadata": {},
     "source": [
      "* A really, really, really long name\n",
      "* Something that ridiculous that makes no sense grammatically\n",
      "* Numbers\n",
      "* Other Python types, if you can think of or google for one"
     ]
    },
    {
     "cell_type": "code",
     "collapsed": false,
     "input": [
      "%cat greeting-4-blackhat.py"
     ],
     "language": "python",
     "metadata": {},
     "outputs": [
      {
       "output_type": "stream",
       "stream": "stdout",
       "text": [
        "# Function\r\n",
        "def happy_birthday(name):\r\n",
        "    print(\"Happy Birthday, dear \" + name + \"!\")\r\n",
        "\r\n",
        "# A list of names\r\n",
        "names = [\"Carol\", \"Rise\", \"Trey\", \"Alain\"]\r\n",
        "\r\n",
        "# Calling\r\n",
        "for name in names:\r\n",
        "    happy_birthday(name)\r\n",
        "\r\n",
        "# A really, really, really long name\r\n",
        "print(\"Test a really, really, really long name\")\r\n",
        "happy_birthday(\"Janice Keihanaikukauakahihuliheekahaunaele\")\r\n",
        "\r\n",
        "# Something ridiculous\r\n",
        "print(\"Twas brillig, and the slithy toves  Did gyre and gimble in the wabe  All mimsy were the borogoves, And the mome raths outgrabe.\")\r\n",
        "happy_birthday(\"Twas brillig, and the slithy toves  Did gyre and gimble in the wabe:  All mimsy were the borogoves,  And the mome raths outgrabe.\")\r\n",
        "\r\n",
        "# A number\r\n",
        "print(-122.63)\r\n",
        "happy_birthday(-122.63)\r\n",
        "\r\n",
        "# A weird type (I choose boolean)\r\n",
        "print(True)\r\n",
        "happy_birthday(True)\r\n",
        "\r\n"
       ]
      }
     ],
     "prompt_number": 46
    },
    {
     "cell_type": "code",
     "collapsed": false,
     "input": [
      "%%bash\n",
      "python3 greeting-4-blackhat.py"
     ],
     "language": "python",
     "metadata": {},
     "outputs": [
      {
       "output_type": "stream",
       "stream": "stdout",
       "text": [
        "Happy Birthday, dear Carol!\n",
        "Happy Birthday, dear Rise!\n",
        "Happy Birthday, dear Trey!\n",
        "Happy Birthday, dear Alain!\n",
        "Test a really, really, really long name\n",
        "Happy Birthday, dear Janice Keihanaikukauakahihuliheekahaunaele!\n",
        "Twas brillig, and the slithy toves  Did gyre and gimble in the wabe  All mimsy were the borogoves, And the mome raths outgrabe.\n",
        "Happy Birthday, dear Twas brillig, and the slithy toves  Did gyre and gimble in the wabe:  All mimsy were the borogoves,  And the mome raths outgrabe.!\n",
        "-122.63\n"
       ]
      },
      {
       "output_type": "stream",
       "stream": "stderr",
       "text": [
        "Traceback (most recent call last):\n",
        "  File \"greeting-4-blackhat.py\", line 22, in <module>\n",
        "    happy_birthday(-122.63)\n",
        "  File \"greeting-4-blackhat.py\", line 3, in happy_birthday\n",
        "    print(\"Happy Birthday, dear \" + name + \"!\")\n",
        "TypeError: Can't convert 'float' object to str implicitly\n"
       ]
      }
     ],
     "prompt_number": 47
    },
    {
     "cell_type": "code",
     "collapsed": false,
     "input": [],
     "language": "python",
     "metadata": {},
     "outputs": []
    }
   ],
   "metadata": {}
  }
 ]
}